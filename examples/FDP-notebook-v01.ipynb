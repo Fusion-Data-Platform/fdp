{
 "cells": [
  {
   "cell_type": "markdown",
   "metadata": {},
   "source": [
    "## Launch this \"notebook\" in NoMachine or X-window system\n",
    "\n",
    "```shell\n",
    "% module show /u/drsmith/fdp.module\n",
    "% module load /u/drsmith/fdp.module\n",
    "% jupyter notebook /u/drsmith/fdp/examples/FDP-notebook-v01\n",
    "```"
   ]
  },
  {
   "cell_type": "markdown",
   "metadata": {},
   "source": [
    "## Python environment\n",
    "\n",
    "Verify executable, version, and module search path (`$PYTHONPATH`)"
   ]
  },
  {
   "cell_type": "code",
   "execution_count": null,
   "metadata": {
    "collapsed": false,
    "scrolled": false
   },
   "outputs": [],
   "source": [
    "# shift+enter to execute cell\n",
    "\n",
    "# version and executable\n",
    "import sys\n",
    "print('Python executable and version:')\n",
    "print(sys.executable)\n",
    "print(sys.version+'\\n')\n",
    "\n",
    "# module search path\n",
    "print('Module search path:')\n",
    "for path in sys.path:\n",
    "    print(path)\n",
    "print('')\n",
    "\n",
    "# $PYTHONPATH environment variable\n",
    "import os\n",
    "print('$PYTHONPATH environment variable:')\n",
    "print(os.environ['PYTHONPATH'])"
   ]
  },
  {
   "cell_type": "markdown",
   "metadata": {},
   "source": [
    "## Load FDP and create a machine\n",
    "\n",
    "`nstx` is a flexible data object that:\n",
    "* ties together multiple data sources\n",
    "  * MDSplus, logbook, TRANSP, results databases\n",
    "* eliminates need to know trees/node names\n",
    "* introspective for shot, XP, date, diagnostic, signals, and data methods\n",
    "* retrieves data 'just in time' for data usage\n",
    "* regularizes data\n",
    "  * e.g. all profile data is [time, radius] and explicitly labeled as such\n",
    "  * pre- and post-processing hooks are available (like de-spiking)"
   ]
  },
  {
   "cell_type": "code",
   "execution_count": null,
   "metadata": {
    "collapsed": false
   },
   "outputs": [],
   "source": [
    "import fdp\n",
    "\n",
    "nxtx = fdp.nstx()"
   ]
  },
  {
   "cell_type": "markdown",
   "metadata": {},
   "source": [
    "## Load shots, XPs, or dates"
   ]
  },
  {
   "cell_type": "code",
   "execution_count": null,
   "metadata": {
    "collapsed": false,
    "scrolled": false
   },
   "outputs": [],
   "source": [
    "# load shot by reference\n",
    "nstx.s204590\n",
    "\n",
    "# load and assign\n",
    "myshot = nstx.s204620\n",
    "\n",
    "# load shot list\n",
    "nstx.addshot([204650, 204651, 204652])\n",
    "\n",
    "# load an XP/XMP\n",
    "nstx.addxp(1506)\n",
    "\n",
    "# load shots by date (YYYYMMDD)\n",
    "nstx.adddate(20160627)\n",
    "\n",
    "# list loaded shots\n",
    "nstx.listshot()"
   ]
  },
  {
   "cell_type": "markdown",
   "metadata": {},
   "source": [
    "# Logbook integration"
   ]
  },
  {
   "cell_type": "code",
   "execution_count": null,
   "metadata": {
    "collapsed": false
   },
   "outputs": [],
   "source": [
    "nstx.s141000.logbook()"
   ]
  },
  {
   "cell_type": "markdown",
   "metadata": {},
   "source": [
    "# Introspection"
   ]
  },
  {
   "cell_type": "code",
   "execution_count": null,
   "metadata": {
    "collapsed": true
   },
   "outputs": [],
   "source": [
    "nstx.s141000.listContainers()"
   ]
  },
  {
   "cell_type": "code",
   "execution_count": null,
   "metadata": {
    "collapsed": true
   },
   "outputs": [],
   "source": [
    "nstx.s141000.bes.listSignals()"
   ]
  },
  {
   "cell_type": "code",
   "execution_count": null,
   "metadata": {
    "collapsed": true
   },
   "outputs": [],
   "source": []
  }
 ],
 "metadata": {
  "kernelspec": {
   "display_name": "Python 2",
   "language": "python",
   "name": "python2"
  },
  "language_info": {
   "codemirror_mode": {
    "name": "ipython",
    "version": 2
   },
   "file_extension": ".py",
   "mimetype": "text/x-python",
   "name": "python",
   "nbconvert_exporter": "python",
   "pygments_lexer": "ipython2",
   "version": "2.7.13"
  }
 },
 "nbformat": 4,
 "nbformat_minor": 2
}
