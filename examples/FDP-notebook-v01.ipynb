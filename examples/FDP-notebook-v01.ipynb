{
 "cells": [
  {
   "cell_type": "markdown",
   "metadata": {},
   "source": [
    "# This is a Jupyter \"notebook\"\n",
    "\n",
    "In NoMachine or other X-window session:\n",
    "\n",
    "```shell\n",
    "% module load /u/drsmith/fdp.module\n",
    "% jupyter notebook /u/drsmith/fdp/examples/FDP-notebook-v01.ipynb\n",
    "```\n",
    "\n",
    "To execute cells: shift+enter\n",
    "\n",
    "PDF copy: `/u/drsmith/fdp/examples/FDP-notebook-v01.pdf`"
   ]
  },
  {
   "cell_type": "markdown",
   "metadata": {},
   "source": [
    "# Python environment\n",
    "\n",
    "Verify executable, version, and module search path (`$PYTHONPATH`)"
   ]
  },
  {
   "cell_type": "code",
   "execution_count": 1,
   "metadata": {
    "collapsed": false,
    "scrolled": false
   },
   "outputs": [
    {
     "name": "stdout",
     "output_type": "stream",
     "text": [
      "Python executable and version:\n",
      "/usr/pppl/anaconda2/4.2.0/bin/python\n",
      "2.7.13 |Anaconda custom (64-bit)| (default, Dec 20 2016, 23:09:15) \n",
      "[GCC 4.4.7 20120313 (Red Hat 4.4.7-1)]\n",
      "\n",
      "Module search path:\n",
      "\n",
      "/u/drsmith/fdp\n",
      "/p/fdp\n",
      "/p/fdp/anaconda/lib/python2.7/site-packages\n",
      "/u/drsmith/local/lib/python2.7/site-packages\n",
      "/u/drsmith/python\n",
      "/usr/pppl/anaconda2/4.2.0/lib/python27.zip\n",
      "/usr/pppl/anaconda2/4.2.0/lib/python2.7\n",
      "/usr/pppl/anaconda2/4.2.0/lib/python2.7/plat-linux2\n",
      "/usr/pppl/anaconda2/4.2.0/lib/python2.7/lib-tk\n",
      "/usr/pppl/anaconda2/4.2.0/lib/python2.7/lib-old\n",
      "/usr/pppl/anaconda2/4.2.0/lib/python2.7/lib-dynload\n",
      "/usr/pppl/anaconda2/4.2.0/lib/python2.7/site-packages\n",
      "/usr/pppl/anaconda2/4.2.0/lib/python2.7/site-packages/Sphinx-1.5.1-py2.7.egg\n",
      "/usr/pppl/anaconda2/4.2.0/lib/python2.7/site-packages/mdsplus-7.1.13-py2.7.egg\n",
      "/usr/pppl/anaconda2/4.2.0/lib/python2.7/site-packages/setuptools-27.2.0-py2.7.egg\n",
      "/p/fdp\n",
      "/p/fdp/anaconda/lib/python2.7/site-packages\n",
      "/u/drsmith/local/lib/python2.7/site-packages/IPython/extensions\n",
      "/u/drsmith/.ipython\n",
      "\n",
      "$PYTHONPATH environment variable:\n",
      "/u/drsmith/fdp:/p/fdp:/p/fdp/anaconda/lib/python2.7/site-packages:/u/drsmith/local/lib/python2.7/site-packages:/u/drsmith/python\n"
     ]
    }
   ],
   "source": [
    "# version and executable\n",
    "import sys\n",
    "print('Python executable and version:')\n",
    "print(sys.executable)\n",
    "print(sys.version)\n",
    "print('')\n",
    "\n",
    "# module search path\n",
    "print('Module search path:')\n",
    "for path in sys.path:\n",
    "    print(path)\n",
    "print('')\n",
    "\n",
    "# $PYTHONPATH environment variable\n",
    "import os\n",
    "print('$PYTHONPATH environment variable:')\n",
    "print(os.environ['PYTHONPATH'])"
   ]
  },
  {
   "cell_type": "markdown",
   "metadata": {},
   "source": [
    "# Load FDP and create a machine\n",
    "\n",
    "`nstx` is a flexible data object that:\n",
    "* ties together multiple data sources\n",
    "  * MDSplus, logbook, TRANSP, results databases\n",
    "* eliminates need to know trees/node names\n",
    "* introspective for shot, XP, date, diagnostic, signals, axes, and data methods\n",
    "* retrieves data 'just in time' at first data usage\n",
    "* regularizes data\n",
    "  * e.g. all profile data is [time, radius] and explicitly labeled as such\n",
    "* pre- and post-processing hooks are available\n",
    "  * like surveying EFIT/LRDFIT trees and de-spiking"
   ]
  },
  {
   "cell_type": "code",
   "execution_count": 5,
   "metadata": {
    "collapsed": false
   },
   "outputs": [
    {
     "ename": "NameError",
     "evalue": "name 'nstx' is not defined",
     "output_type": "error",
     "traceback": [
      "\u001b[0;31m---------------------------------------------------------------------------\u001b[0m",
      "\u001b[0;31mNameError\u001b[0m                                 Traceback (most recent call last)",
      "\u001b[0;32m<ipython-input-5-f8bdaa7ea590>\u001b[0m in \u001b[0;36m<module>\u001b[0;34m()\u001b[0m\n\u001b[1;32m      2\u001b[0m \u001b[0;34m\u001b[0m\u001b[0m\n\u001b[1;32m      3\u001b[0m \u001b[0mnxtx\u001b[0m \u001b[0;34m=\u001b[0m \u001b[0mfdp\u001b[0m\u001b[0;34m.\u001b[0m\u001b[0mnstx\u001b[0m\u001b[0;34m(\u001b[0m\u001b[0;34m)\u001b[0m\u001b[0;34m\u001b[0m\u001b[0m\n\u001b[0;32m----> 4\u001b[0;31m \u001b[0mnstx\u001b[0m\u001b[0;34m.\u001b[0m\u001b[0ms204620\u001b[0m\u001b[0;34m\u001b[0m\u001b[0m\n\u001b[0m",
      "\u001b[0;31mNameError\u001b[0m: name 'nstx' is not defined"
     ]
    }
   ],
   "source": [
    "import fdp\n",
    "\n",
    "nxtx = fdp.nstx()\n",
    "nstx.s204620"
   ]
  },
  {
   "cell_type": "markdown",
   "metadata": {},
   "source": [
    "# Load shots, XPs, or dates\n",
    "\n",
    "Shots loaded by reference (no need to \"get\" shots)"
   ]
  },
  {
   "cell_type": "code",
   "execution_count": 3,
   "metadata": {
    "collapsed": false,
    "scrolled": false
   },
   "outputs": [
    {
     "ename": "NameError",
     "evalue": "name 'nstx' is not defined",
     "output_type": "error",
     "traceback": [
      "\u001b[0;31m---------------------------------------------------------------------------\u001b[0m",
      "\u001b[0;31mNameError\u001b[0m                                 Traceback (most recent call last)",
      "\u001b[0;32m<ipython-input-3-2a18563f7cfa>\u001b[0m in \u001b[0;36m<module>\u001b[0;34m()\u001b[0m\n\u001b[1;32m      1\u001b[0m \u001b[0;31m# load shot by reference\u001b[0m\u001b[0;34m\u001b[0m\u001b[0;34m\u001b[0m\u001b[0m\n\u001b[0;32m----> 2\u001b[0;31m \u001b[0mnstx\u001b[0m\u001b[0;34m.\u001b[0m\u001b[0ms204590\u001b[0m\u001b[0;34m\u001b[0m\u001b[0m\n\u001b[0m\u001b[1;32m      3\u001b[0m \u001b[0;34m\u001b[0m\u001b[0m\n\u001b[1;32m      4\u001b[0m \u001b[0;31m# load and assign\u001b[0m\u001b[0;34m\u001b[0m\u001b[0;34m\u001b[0m\u001b[0m\n\u001b[1;32m      5\u001b[0m \u001b[0mmyshot\u001b[0m \u001b[0;34m=\u001b[0m \u001b[0mnstx\u001b[0m\u001b[0;34m.\u001b[0m\u001b[0ms204620\u001b[0m\u001b[0;34m\u001b[0m\u001b[0m\n",
      "\u001b[0;31mNameError\u001b[0m: name 'nstx' is not defined"
     ]
    }
   ],
   "source": [
    "# load shot by reference\n",
    "nstx.s204590\n",
    "\n",
    "# load and assign\n",
    "myshot = nstx.s204620\n",
    "\n",
    "# load shot list\n",
    "nstx.addshot([204650, 204651, 204652])\n",
    "\n",
    "# load an XP/XMP\n",
    "nstx.addxp(1506)\n",
    "\n",
    "# load shots by date (YYYYMMDD)\n",
    "nstx.adddate(20160627)\n",
    "\n",
    "# list loaded shots\n",
    "nstx.listshot()"
   ]
  },
  {
   "cell_type": "markdown",
   "metadata": {},
   "source": [
    "# Logbook integration"
   ]
  },
  {
   "cell_type": "code",
   "execution_count": null,
   "metadata": {
    "collapsed": false
   },
   "outputs": [],
   "source": [
    "nstx.s141000.logbook()"
   ]
  },
  {
   "cell_type": "markdown",
   "metadata": {},
   "source": [
    "# Introspection"
   ]
  },
  {
   "cell_type": "code",
   "execution_count": null,
   "metadata": {
    "collapsed": true
   },
   "outputs": [],
   "source": [
    "nstx.s141000.listContainers()"
   ]
  },
  {
   "cell_type": "code",
   "execution_count": null,
   "metadata": {
    "collapsed": true
   },
   "outputs": [],
   "source": [
    "nstx.s141000.equilibria.listContainers()"
   ]
  },
  {
   "cell_type": "code",
   "execution_count": null,
   "metadata": {
    "collapsed": true
   },
   "outputs": [],
   "source": [
    "nstx.s141000.bes.listSignals()"
   ]
  },
  {
   "cell_type": "code",
   "execution_count": null,
   "metadata": {
    "collapsed": false
   },
   "outputs": [],
   "source": [
    "nstx.s141000.mpts.listSignals()\n",
    "nstx.s141000.mpts.listContainers()\n",
    "nstx.s141000.mpts.spline.listSignals()"
   ]
  },
  {
   "cell_type": "code",
   "execution_count": null,
   "metadata": {
    "collapsed": true
   },
   "outputs": [],
   "source": []
  }
 ],
 "metadata": {
  "kernelspec": {
   "display_name": "Python 2",
   "language": "python",
   "name": "python2"
  },
  "language_info": {
   "codemirror_mode": {
    "name": "ipython",
    "version": 2
   },
   "file_extension": ".py",
   "mimetype": "text/x-python",
   "name": "python",
   "nbconvert_exporter": "python",
   "pygments_lexer": "ipython2",
   "version": "2.7.13"
  }
 },
 "nbformat": 4,
 "nbformat_minor": 2
}
